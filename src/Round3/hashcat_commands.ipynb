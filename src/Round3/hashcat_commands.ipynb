{
 "cells": [
  {
   "cell_type": "code",
   "execution_count": null,
   "metadata": {},
   "outputs": [],
   "source": [
    "# basic syntax for hashcat\n",
    "! hashcat -m [HASH_MODE] -a [ATTACK_MODE] [HASH_FILE] [WORDLIST/MASK/RULES]"
   ]
  },
  {
   "cell_type": "markdown",
   "metadata": {},
   "source": [
    "# Attacks"
   ]
  },
  {
   "cell_type": "code",
   "execution_count": null,
   "metadata": {},
   "outputs": [],
   "source": [
    "# Dictionary attack\n",
    "! hashcat -m [HASH_MODE] -a 0 [HASH_FILE] [WORDLIST]\n",
    "# Example for MD5 hashes:\n",
    "# hashcat -m 0 hashes.txt rockyou.txt"
   ]
  },
  {
   "cell_type": "code",
   "execution_count": null,
   "metadata": {},
   "outputs": [],
   "source": [
    "# Brute force attack\n",
    "! hashcat -m [HASH_MODE] -a 3 [HASH_FILE] ?l?l?l?l?l  # 5 lowercase letters\n",
    "# hashcat -m 1000 ntlm_hashes.txt -a 3 ?u?d?s?d?d?d  # Mix of uppercase, digits, symbols"
   ]
  },
  {
   "cell_type": "code",
   "execution_count": null,
   "metadata": {},
   "outputs": [],
   "source": [
    "# Combinator attack\n",
    "! hashcat -m [HASH_MODE] -a 1 [HASH_FILE] [WORDLIST1] [WORDLIST2]\n",
    "# Combines words from two lists (e.g., \"password123\")."
   ]
  },
  {
   "cell_type": "code",
   "execution_count": null,
   "metadata": {},
   "outputs": [],
   "source": [
    "# Rule based attack\n",
    "! hashcat -m [HASH_MODE] -a 0 [HASH_FILE] [WORDLIST] -r [RULE_FILE]\n",
    "# Example with \"best64.rule\":\n",
    "# hashcat -m 500 md5_hashes.txt rockyou.txt -r /usr/share/hashcat/rules/best64.rule"
   ]
  },
  {
   "cell_type": "code",
   "execution_count": null,
   "metadata": {},
   "outputs": [],
   "source": [
    "# Mask attack\n",
    "! hashcat -m [HASH_MODE] -a 3 [HASH_FILE] [MASK]\n",
    "# Example for \"Password2023!\" (Capital, lowercase, year, symbol):\n",
    "# hashcat -m 1000 ntlm_hashes.txt -a 3 ?u?l?l?l?l?l?l?d?d?d?d?s"
   ]
  },
  {
   "cell_type": "code",
   "execution_count": null,
   "metadata": {},
   "outputs": [],
   "source": [
    "# Hybrid Attack(Dict plus Mask)\n",
    "! hashcat -m [HASH_MODE] -a 6 [HASH_FILE] [WORDLIST] [MASK]\n",
    "# Appends a mask to words (e.g., \"password123\"):\n",
    "# hashcat -m 1800 sha1_hashes.txt rockyou.txt ?d?d?d"
   ]
  },
  {
   "cell_type": "markdown",
   "metadata": {},
   "source": [
    "# Hashes"
   ]
  },
  {
   "cell_type": "code",
   "execution_count": null,
   "metadata": {},
   "outputs": [],
   "source": [
    "# For salted hashes (e.g., md5(salt+pass)):\n",
    "! hashcat -m 10 salted_hashes.txt rockyou.txt"
   ]
  },
  {
   "cell_type": "code",
   "execution_count": null,
   "metadata": {},
   "outputs": [],
   "source": [
    "! hashcat -m 22000 [CAPTURE.hc22000] [WORDLIST]\n",
    "# Convert .pcap to .hc22000 first with hcxpcapngtool."
   ]
  },
  {
   "cell_type": "code",
   "execution_count": null,
   "metadata": {},
   "outputs": [],
   "source": [
    "# show cracked passwords\n",
    "! hashcat -m [HASH_MODE] [HASH_FILE] --show"
   ]
  }
 ],
 "metadata": {
  "kernelspec": {
   "display_name": "Python 3",
   "language": "python",
   "name": "python3"
  },
  "language_info": {
   "name": "python",
   "version": "3.9.9"
  }
 },
 "nbformat": 4,
 "nbformat_minor": 2
}
