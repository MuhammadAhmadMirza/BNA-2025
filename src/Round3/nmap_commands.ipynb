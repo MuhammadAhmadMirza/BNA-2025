{
 "cells": [
  {
   "cell_type": "markdown",
   "metadata": {},
   "source": [
    "## Targets:\n",
    "\n",
    "### Single IP Address\n",
    "Example: nmap 192.168.1.1\n",
    "\n",
    "Scans a single device with the specified IP address.\n",
    "\n",
    "\n",
    "### Hostname\n",
    "Example: nmap example.com\n",
    "\n",
    "Scans the target using its domain name (Nmap will resolve it to an IP address).\n",
    "\n",
    "\n",
    "### IP Range\n",
    "Example: nmap 192.168.1.1-100\n",
    "\n",
    "Scans a range of IP addresses (e.g., from 192.168.1.1 to 192.168.1.100).\n",
    "\n",
    "\n",
    "### Subnet (CIDR Notation)\n",
    "Example: nmap 192.168.1.0/24\n",
    "\n",
    "Scans an entire subnet (e.g., all 256 IPs in the 192.168.1.x range).\n",
    "\n",
    "\n",
    "### Multiple Targets (Comma-Separated)\n",
    "Example: nmap 192.168.1.1,192.168.1.5,192.168.1.10\n",
    "\n",
    "Scans multiple specific IPs or hostnames.\n",
    "\n",
    "\n",
    "### Input from a File\n",
    "Example: nmap -iL targets.txt\n",
    "\n",
    "Scans a list of targets provided in a text file (one target per line)."
   ]
  },
  {
   "cell_type": "code",
   "execution_count": 1,
   "metadata": {},
   "outputs": [
    {
     "name": "stdout",
     "output_type": "stream",
     "text": [
      "\n",
      "Windows IP Configuration\n",
      "\n",
      "\n",
      "Ethernet adapter Ethernet:\n",
      "\n",
      "   Connection-specific DNS Suffix  . : \n",
      "   Link-local IPv6 Address . . . . . : fe80::bccd:f0eb:1ecd:7d2c%6\n",
      "   IPv4 Address. . . . . . . . . . . : 192.168.100.123\n",
      "   Subnet Mask . . . . . . . . . . . : 255.255.255.0\n",
      "   Default Gateway . . . . . . . . . : fe80::1%6\n",
      "                                       192.168.100.1\n",
      "\n",
      "Wireless LAN adapter Local Area Connection* 1:\n",
      "\n",
      "   Media State . . . . . . . . . . . : Media disconnected\n",
      "   Connection-specific DNS Suffix  . : \n",
      "\n",
      "Wireless LAN adapter Local Area Connection* 2:\n",
      "\n",
      "   Media State . . . . . . . . . . . : Media disconnected\n",
      "   Connection-specific DNS Suffix  . : \n",
      "\n",
      "Wireless LAN adapter Wi-Fi:\n",
      "\n",
      "   Media State . . . . . . . . . . . : Media disconnected\n",
      "   Connection-specific DNS Suffix  . : \n",
      "\n",
      "Ethernet adapter Bluetooth Network Connection:\n",
      "\n",
      "   Media State . . . . . . . . . . . : Media disconnected\n",
      "   Connection-specific DNS Suffix  . : \n",
      "\n",
      "Ethernet adapter vEthernet (WSL (Hyper-V firewall)):\n",
      "\n",
      "   Connection-specific DNS Suffix  . : \n",
      "   Link-local IPv6 Address . . . . . : fe80::b63b:2a59:77d9:10a1%45\n",
      "   IPv4 Address. . . . . . . . . . . : 172.26.224.1\n",
      "   Subnet Mask . . . . . . . . . . . : 255.255.240.0\n",
      "   Default Gateway . . . . . . . . . : \n"
     ]
    }
   ],
   "source": [
    "! Ipconfig"
   ]
  },
  {
   "cell_type": "markdown",
   "metadata": {},
   "source": [
    "# Basic Scans"
   ]
  },
  {
   "cell_type": "code",
   "execution_count": null,
   "metadata": {},
   "outputs": [],
   "source": [
    "# Ping Scan (Discover Live Hosts)\n",
    "! nmap -sn <target>\n",
    "\n",
    "# Scans the network to find live hosts without port scanning."
   ]
  },
  {
   "cell_type": "code",
   "execution_count": null,
   "metadata": {},
   "outputs": [],
   "source": [
    "\n",
    "# Basic Port Scan\n",
    "! nmap <target>\n",
    "\n",
    "# Scans the most common 1,000 ports on the target."
   ]
  },
  {
   "cell_type": "code",
   "execution_count": null,
   "metadata": {},
   "outputs": [],
   "source": [
    "\n",
    "# Scan Specific Ports\n",
    "! nmap -p <port(s)> <target>\n",
    "\n",
    "# Scans specific ports (e.g., nmap -p 22,80,443 <target>)."
   ]
  },
  {
   "cell_type": "code",
   "execution_count": null,
   "metadata": {},
   "outputs": [],
   "source": [
    "\n",
    "# Scan All Ports\n",
    "! nmap -p <target>\n",
    "\n",
    "# Scans all 65,535 ports on the target."
   ]
  },
  {
   "cell_type": "code",
   "execution_count": null,
   "metadata": {},
   "outputs": [],
   "source": [
    "\n",
    "# Scan Top Ports\n",
    "! nmap --top-ports <number> <target>\n"
   ]
  },
  {
   "cell_type": "code",
   "execution_count": null,
   "metadata": {},
   "outputs": [],
   "source": [
    "\n",
    "# Scans the top N most common ports (e.g., nmap --top-ports 100 <target>).\n",
    "! nmap --top-ports 100 <target>"
   ]
  },
  {
   "cell_type": "markdown",
   "metadata": {},
   "source": [
    "# Service and Version detection"
   ]
  },
  {
   "cell_type": "code",
   "execution_count": null,
   "metadata": {},
   "outputs": [],
   "source": [
    "# Service Version Detection\n",
    "! nmap -sV <target>\n",
    "\n",
    "# Identifies the version of services running on open ports."
   ]
  },
  {
   "cell_type": "code",
   "execution_count": null,
   "metadata": {},
   "outputs": [],
   "source": [
    "\n",
    "# Aggressive Scan\n",
    "! nmap -A <target>\n",
    "\n",
    "# Enables OS detection, version detection, script scanning, and traceroute."
   ]
  },
  {
   "cell_type": "code",
   "execution_count": null,
   "metadata": {},
   "outputs": [],
   "source": [
    "\n",
    "# OS Detection\n",
    "! nmap -O <target>\n",
    "\n",
    "# Attempts to determine the operating system of the target."
   ]
  },
  {
   "cell_type": "markdown",
   "metadata": {},
   "source": [
    "# Advanced Scans"
   ]
  },
  {
   "cell_type": "code",
   "execution_count": null,
   "metadata": {},
   "outputs": [],
   "source": [
    "# TCP SYN Scan (Stealth Scan)\n",
    "! nmap -sS <target>\n",
    "\n",
    "# A fast and stealthy scan that doesn't complete the TCP connection."
   ]
  },
  {
   "cell_type": "code",
   "execution_count": null,
   "metadata": {},
   "outputs": [],
   "source": [
    "\n",
    "# TCP Connect Scan\n",
    "! nmap -sT <target>\n",
    "\n",
    "# Completes the TCP connection, useful if SYN scan is not possible."
   ]
  },
  {
   "cell_type": "code",
   "execution_count": null,
   "metadata": {},
   "outputs": [],
   "source": [
    "\n",
    "# UDP Scan\n",
    "! nmap -sU <target>\n",
    "\n",
    "# Scans for open UDP ports."
   ]
  },
  {
   "cell_type": "code",
   "execution_count": null,
   "metadata": {},
   "outputs": [],
   "source": [
    "\n",
    "# Script Scan (NSE)\n",
    "! nmap -sC <target>\n",
    "\n",
    "# Runs default Nmap Scripting Engine (NSE) scripts for vulnerability detection."
   ]
  },
  {
   "cell_type": "code",
   "execution_count": null,
   "metadata": {},
   "outputs": [],
   "source": [
    "\n",
    "# Custom Script Scan\n",
    "! nmap --script <script-name> <target>\n",
    "\n",
    "# Runs specific NSE scripts (e.g., nmap --script vuln <target>)"
   ]
  },
  {
   "cell_type": "markdown",
   "metadata": {},
   "source": [
    "# Network Discovery"
   ]
  },
  {
   "cell_type": "code",
   "execution_count": null,
   "metadata": {},
   "outputs": [],
   "source": [
    "# Scan a Network Range\n",
    "! nmap <network-range>\n",
    "\n",
    "# Scans an entire network range (e.g., nmap 192.168.1.0/24)."
   ]
  },
  {
   "cell_type": "code",
   "execution_count": null,
   "metadata": {},
   "outputs": [],
   "source": [
    "\n",
    "# Exclude Hosts from Scan\n",
    "! nmap <target> --exclude <host>\n",
    "\n",
    "# Excludes specific hosts from the scan."
   ]
  },
  {
   "cell_type": "code",
   "execution_count": null,
   "metadata": {},
   "outputs": [],
   "source": [
    "\n",
    "# List Scan (No Port Scan)\n",
    "! nmap -sL <target>\n",
    "\n",
    "# Lists targets without scanning them."
   ]
  },
  {
   "cell_type": "markdown",
   "metadata": {},
   "source": [
    "# Logging"
   ]
  },
  {
   "cell_type": "code",
   "execution_count": null,
   "metadata": {},
   "outputs": [],
   "source": [
    "# Save Output to a File\n",
    "! nmap -oN <output-file> <target>\n",
    "\n",
    "# Saves the scan results to a text file."
   ]
  },
  {
   "cell_type": "markdown",
   "metadata": {},
   "source": [
    "# Others"
   ]
  },
  {
   "cell_type": "code",
   "execution_count": null,
   "metadata": {},
   "outputs": [],
   "source": [
    "# Detect Firewall Rules\n",
    "! nmap -sA <target>\n",
    "\n",
    "# ACK scan to detect firewall rules."
   ]
  },
  {
   "cell_type": "code",
   "execution_count": null,
   "metadata": {},
   "outputs": [],
   "source": [
    "\n",
    "# Fragment Packets\n",
    "! nmap -f <target>\n",
    "\n",
    "# Fragments packets to evade detection."
   ]
  },
  {
   "cell_type": "code",
   "execution_count": null,
   "metadata": {},
   "outputs": [],
   "source": [
    "\n",
    "# Decoy Scan\n",
    "! nmap -D <decoy1,decoy2> <target>\n",
    "\n",
    "# Hides your IP among decoys."
   ]
  },
  {
   "cell_type": "code",
   "execution_count": null,
   "metadata": {},
   "outputs": [],
   "source": [
    "\n",
    "# Idle Scan (Zombie Scan)\n",
    "! nmap -sI <zombie-host> <target>\n",
    "\n",
    "# Uses a zombie host to scan the target stealthily."
   ]
  }
 ],
 "metadata": {
  "kernelspec": {
   "display_name": "Python 3",
   "language": "python",
   "name": "python3"
  },
  "language_info": {
   "codemirror_mode": {
    "name": "ipython",
    "version": 3
   },
   "file_extension": ".py",
   "mimetype": "text/x-python",
   "name": "python",
   "nbconvert_exporter": "python",
   "pygments_lexer": "ipython3",
   "version": "3.9.9"
  }
 },
 "nbformat": 4,
 "nbformat_minor": 2
}
